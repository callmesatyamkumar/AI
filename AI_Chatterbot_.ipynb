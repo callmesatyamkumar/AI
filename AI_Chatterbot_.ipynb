{
  "nbformat": 4,
  "nbformat_minor": 0,
  "metadata": {
    "colab": {
      "name": "AI Chatterbot .ipynb",
      "provenance": [],
      "authorship_tag": "ABX9TyPQqVGbUCt3kZzFGLoIWGRQ",
      "include_colab_link": true
    },
    "kernelspec": {
      "name": "python3",
      "display_name": "Python 3"
    },
    "language_info": {
      "name": "python"
    }
  },
  "cells": [
    {
      "cell_type": "markdown",
      "metadata": {
        "id": "view-in-github",
        "colab_type": "text"
      },
      "source": [
        "<a href=\"https://colab.research.google.com/github/callmesatyamkumar/AI/blob/main/AI_Chatterbot_.ipynb\" target=\"_parent\"><img src=\"https://colab.research.google.com/assets/colab-badge.svg\" alt=\"Open In Colab\"/></a>"
      ]
    },
    {
      "cell_type": "code",
      "execution_count": 1,
      "metadata": {
        "colab": {
          "base_uri": "https://localhost:8080/"
        },
        "id": "D1mRVey8rKf7",
        "outputId": "0194ef93-ecb0-4cfc-bdfb-0fbe667d55f6"
      },
      "outputs": [
        {
          "output_type": "stream",
          "name": "stdout",
          "text": [
            "Collecting chatterbot\n",
            "  Downloading ChatterBot-1.0.8-py2.py3-none-any.whl (63 kB)\n",
            "\u001b[K     |████████████████████████████████| 63 kB 1.6 MB/s \n",
            "\u001b[?25hCollecting mathparse<0.2,>=0.1\n",
            "  Downloading mathparse-0.1.2-py3-none-any.whl (7.2 kB)\n",
            "Collecting sqlalchemy<1.4,>=1.3\n",
            "  Downloading SQLAlchemy-1.3.24-cp37-cp37m-manylinux2010_x86_64.whl (1.3 MB)\n",
            "\u001b[K     |████████████████████████████████| 1.3 MB 19.5 MB/s \n",
            "\u001b[?25hRequirement already satisfied: pytz in /usr/local/lib/python3.7/dist-packages (from chatterbot) (2018.9)\n",
            "Requirement already satisfied: python-dateutil<2.9,>=2.8 in /usr/local/lib/python3.7/dist-packages (from chatterbot) (2.8.2)\n",
            "Requirement already satisfied: six>=1.5 in /usr/local/lib/python3.7/dist-packages (from python-dateutil<2.9,>=2.8->chatterbot) (1.15.0)\n",
            "Installing collected packages: sqlalchemy, mathparse, chatterbot\n",
            "  Attempting uninstall: sqlalchemy\n",
            "    Found existing installation: SQLAlchemy 1.4.31\n",
            "    Uninstalling SQLAlchemy-1.4.31:\n",
            "      Successfully uninstalled SQLAlchemy-1.4.31\n",
            "Successfully installed chatterbot-1.0.8 mathparse-0.1.2 sqlalchemy-1.3.24\n"
          ]
        }
      ],
      "source": [
        "pip install chatterbot"
      ]
    },
    {
      "cell_type": "code",
      "source": [
        "pip install chatterbot_corpus"
      ],
      "metadata": {
        "colab": {
          "base_uri": "https://localhost:8080/"
        },
        "id": "w64pAX-jrjlN",
        "outputId": "45af4773-2b5e-43c1-ae54-31d3c70c1706"
      },
      "execution_count": 2,
      "outputs": [
        {
          "output_type": "stream",
          "name": "stdout",
          "text": [
            "Collecting chatterbot_corpus\n",
            "  Downloading chatterbot_corpus-1.2.0-py2.py3-none-any.whl (117 kB)\n",
            "\u001b[?25l\r\u001b[K     |██▉                             | 10 kB 17.4 MB/s eta 0:00:01\r\u001b[K     |█████▋                          | 20 kB 22.3 MB/s eta 0:00:01\r\u001b[K     |████████▍                       | 30 kB 16.2 MB/s eta 0:00:01\r\u001b[K     |███████████▏                    | 40 kB 12.1 MB/s eta 0:00:01\r\u001b[K     |██████████████                  | 51 kB 8.2 MB/s eta 0:00:01\r\u001b[K     |████████████████▊               | 61 kB 8.1 MB/s eta 0:00:01\r\u001b[K     |███████████████████▋            | 71 kB 7.9 MB/s eta 0:00:01\r\u001b[K     |██████████████████████▍         | 81 kB 8.9 MB/s eta 0:00:01\r\u001b[K     |█████████████████████████▏      | 92 kB 8.7 MB/s eta 0:00:01\r\u001b[K     |████████████████████████████    | 102 kB 7.7 MB/s eta 0:00:01\r\u001b[K     |██████████████████████████████▊ | 112 kB 7.7 MB/s eta 0:00:01\r\u001b[K     |████████████████████████████████| 117 kB 7.7 MB/s \n",
            "\u001b[?25hRequirement already satisfied: PyYAML<4.0,>=3.12 in /usr/local/lib/python3.7/dist-packages (from chatterbot_corpus) (3.13)\n",
            "Installing collected packages: chatterbot-corpus\n",
            "Successfully installed chatterbot-corpus-1.2.0\n"
          ]
        }
      ]
    },
    {
      "cell_type": "code",
      "source": [
        "# function to create the chatbot\n",
        "# we have the read_only to false so the chatbot learns from the user input as \n",
        "def create_bot(name):\n",
        "    from chatterbot import ChatBot\n",
        "    Bot = ChatBot(name = name,\n",
        "                  read_only = False,                  \n",
        "                  logic_adapters = [\"chatterbot.logic.BestMatch\"],                 \n",
        "                  storage_adapter = \"chatterbot.storage.SQLStorageAdapter\")\n",
        "    return Bot\n",
        "\n",
        "# function to train the bot with a variety of topics\n",
        "# the language we have chosen is english\n",
        "# we can train the bot for other languages as well\n",
        "def train_all_data(Bot):\n",
        "    from chatterbot.trainers import ChatterBotCorpusTrainer\n",
        "    corpus_trainer = ChatterBotCorpusTrainer(Bot)\n",
        "    corpus_trainer.train(\"chatterbot.corpus.english\")\n",
        "\n",
        "# function to train the bot with custom data\n",
        "# it uses ListTrainer to train data from lists \n",
        "def custom_train(Bot, conversation):\n",
        "    from chatterbot.trainers import ListTrainer\n",
        "    trainer = ListTrainer(Bot)\n",
        "    trainer.train(conversation)\n",
        "\n",
        "# function to start and take responses from the chatbot\n",
        "# the chatbot stays running unless a word is typed from the bye_list \n",
        "def start_chatbot(Bot):\n",
        "    print('\\033c')\n",
        "    print(\"Hello, I am Jordan. How can I help you\")\n",
        "    bye_list = [\"bye jordan\", \"bye\", \"good bye\"] \n",
        "    \n",
        "    while (True):\n",
        "        user_input = input(\"me: \")   \n",
        "        if user_input.lower() in bye_list:\n",
        "            print(\"Jordan: Good bye and have a Nice day\")\n",
        "            break\n",
        "        \n",
        "        response = Bot.get_response(user_input)\n",
        "        print(\"Jordan:\", response)"
      ],
      "metadata": {
        "id": "1e7mAgSA2YMl"
      },
      "execution_count": 4,
      "outputs": []
    },
    {
      "cell_type": "code",
      "source": [
        "# create chatbot \n",
        "bot = create_bot('Jordan')\n",
        "\n",
        "# train all data\n",
        "train_all_data(bot)\n",
        "\n",
        "# train chatbot with your custom data\n",
        "house_owner = [\n",
        "    \"Who is the owner of the house?\",\n",
        "    \"Mark Nicholas\"\n",
        "]\n",
        "\n",
        "custom_train(bot, house_owner)\n",
        "\n",
        "# start chatbot\n",
        "start_chatbot(bot)"
      ],
      "metadata": {
        "colab": {
          "base_uri": "https://localhost:8080/"
        },
        "id": "fAO7VEHs2wuc",
        "outputId": "564b6e35-548c-41e1-b1d9-8cd7ff109148"
      },
      "execution_count": null,
      "outputs": [
        {
          "output_type": "stream",
          "name": "stdout",
          "text": [
            "Training ai.yml: [####################] 100%\n",
            "Training botprofile.yml: [####################] 100%\n",
            "Training computers.yml: [####################] 100%\n",
            "Training conversations.yml: [####################] 100%\n",
            "Training emotion.yml: [####################] 100%\n",
            "Training food.yml: [####################] 100%\n",
            "Training gossip.yml: [####################] 100%\n",
            "Training greetings.yml: [####################] 100%\n",
            "Training health.yml: [####################] 100%\n",
            "Training history.yml: [####################] 100%\n",
            "Training humor.yml: [####################] 100%\n",
            "Training literature.yml: [####################] 100%\n",
            "Training money.yml: [####################] 100%\n",
            "Training movies.yml: [####################] 100%\n",
            "Training politics.yml: [####################] 100%\n",
            "Training psychology.yml: [####################] 100%\n",
            "Training science.yml: [####################] 100%\n",
            "Training sports.yml: [####################] 100%\n",
            "Training trivia.yml: [####################] 100%\n",
            "List Trainer: [####################] 100%\n",
            "\u001bc\n",
            "Hello, I am Jordan. How can I help you\n",
            "me: who is the owner of the house?\n",
            "Jordan: Mark Nicholas\n"
          ]
        }
      ]
    }
  ]
}